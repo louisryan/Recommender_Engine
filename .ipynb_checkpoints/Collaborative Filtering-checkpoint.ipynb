{
 "metadata": {
  "name": ""
 },
 "nbformat": 3,
 "nbformat_minor": 0,
 "worksheets": [
  {
   "cells": [
    {
     "cell_type": "heading",
     "level": 2,
     "metadata": {},
     "source": [
      "Collaborative Filtering"
     ]
    },
    {
     "cell_type": "markdown",
     "metadata": {},
     "source": [
      "As one of the most successful approaches to building recommender systems, collaborative filtering uses the known preference of a group of users to make recommendations or predictions of the unknown preferences of others. This analysis will walk you through an example of a typical recommendation engine deployed commonly today. It willl discuss some issues and alternative approaches to overcome these deficienices.\n",
      "\n",
      "In everyday life, people rely on recommendaions from other people by spoken work, news reports, travel guides and so forth. Naturally, with the dawn of the internet, recommender systems have assisted this process by using the fundamental assumption that if users X and Y rate n items similarly, or have similar bahaviours, they will act on other items similarly. \n",
      "\n",
      "One common approach is to perform user-based collaborative filtering where you compare a user with *every* other user to find close matches(correlations). There are two main problems with this:\n",
      "\n",
      "1. __Scalability__ - "
     ]
    },
    {
     "cell_type": "code",
     "collapsed": false,
     "input": [],
     "language": "python",
     "metadata": {},
     "outputs": []
    }
   ],
   "metadata": {}
  }
 ]
}